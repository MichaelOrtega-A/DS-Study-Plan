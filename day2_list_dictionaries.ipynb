{
 "cells": [
  {
   "cell_type": "code",
   "execution_count": 7,
   "id": "71de7487-9a34-4377-aa39-42aee9662fbf",
   "metadata": {},
   "outputs": [
    {
     "name": "stdout",
     "output_type": "stream",
     "text": [
      "{1: 1, 2: 4, 3: 9, 4: 16, 5: 25}\n"
     ]
    }
   ],
   "source": [
    "#Create a dictionary where \n",
    "#keys are numbers 1-5 \n",
    "#and values are their squares\n",
    "\n",
    "\n",
    "kv = {i: i ** 2 for i in range(1, 6)}\n",
    "print(kv)"
   ]
  },
  {
   "cell_type": "code",
   "execution_count": 15,
   "id": "7186220c-8f82-4803-b2e9-c65b4efc6eb6",
   "metadata": {},
   "outputs": [
    {
     "name": "stdout",
     "output_type": "stream",
     "text": [
      "[20, 22, 24, 26, 28, 30, 32]\n"
     ]
    }
   ],
   "source": [
    "#Write a list comprehension to filter even numbers from a list.\n",
    "lst = [i for i in range(20,33) if i % 2 == 0]\n",
    "print(lst)"
   ]
  },
  {
   "cell_type": "code",
   "execution_count": 16,
   "id": "e78f22b8-18d5-4ffa-ab29-16d27f334c69",
   "metadata": {},
   "outputs": [
    {
     "name": "stdout",
     "output_type": "stream",
     "text": [
      "{'John': 4, 'Jane': 4, 'Doe': 3}\n"
     ]
    }
   ],
   "source": [
    "#Convert [\"John\", \"Jane\", \"Doe\"] into {\"John\":4, \"Jane\":4, \"Doe\":3} (key = name, value = length).\n",
    "\n",
    "names = [\"John\", \"Jane\", \"Doe\"]\n",
    "kv = {name: len(name) for name in names}\n",
    "print(kv)"
   ]
  },
  {
   "cell_type": "code",
   "execution_count": 23,
   "id": "d9c2fc7f-27a6-4ad5-907a-3e5fa42208d6",
   "metadata": {},
   "outputs": [
    {
     "name": "stdout",
     "output_type": "stream",
     "text": [
      "{'Jake': ['Art'], 'Angie': ['Calc 1', 'Calc 2'], 'Troy': ['Biology', 'Physics'], 'Claire': ['English 2A']}\n"
     ]
    }
   ],
   "source": [
    "#Merge two dictionaries without using update()\n",
    "roster_2015 = {\"Jake\": \"Art\", \"Angie\": \"Calc 1\", \"Troy\": \"Biology\"}\n",
    "roster_2016 = {\"Troy\": \"Physics\", \"Claire\": \"English 2A\", \"Angie\": \"Calc 2\"}\n",
    "merged_roster = {}\n",
    "\n",
    "for key, value in roster_2015.items():\n",
    "    merged_roster[key] = [value]  # Store value as a list\n",
    "\n",
    "for key, value in roster_2016.items():\n",
    "    if key in merged_roster:\n",
    "        merged_roster[key].append(value)  # Append new value to list\n",
    "    else:\n",
    "        merged_roster[key] = [value]\n",
    "\n",
    "print(merged_roster)\n",
    "\n"
   ]
  },
  {
   "cell_type": "code",
   "execution_count": null,
   "id": "e7272579-26bd-49da-929a-b7fd876f7e0f",
   "metadata": {},
   "outputs": [],
   "source": []
  }
 ],
 "metadata": {
  "kernelspec": {
   "display_name": "Python 3 (ipykernel)",
   "language": "python",
   "name": "python3"
  },
  "language_info": {
   "codemirror_mode": {
    "name": "ipython",
    "version": 3
   },
   "file_extension": ".py",
   "mimetype": "text/x-python",
   "name": "python",
   "nbconvert_exporter": "python",
   "pygments_lexer": "ipython3",
   "version": "3.12.3"
  }
 },
 "nbformat": 4,
 "nbformat_minor": 5
}
