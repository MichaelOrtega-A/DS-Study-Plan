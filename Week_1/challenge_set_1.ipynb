{
 "cells": [
  {
   "cell_type": "code",
   "execution_count": 1,
   "id": "a60583f7-3d48-4b13-9d54-f724080b1891",
   "metadata": {},
   "outputs": [
    {
     "name": "stdout",
     "output_type": "stream",
     "text": [
      "8\n",
      "27\n",
      "1\n",
      "2\n",
      "Fizz\n",
      "4\n",
      "Buzz\n",
      "Fizz\n",
      "7\n",
      "8\n",
      "Fizz\n",
      "Buzz\n",
      "11\n",
      "Fizz\n",
      "13\n",
      "14\n",
      "FizzBuzz\n",
      "16\n",
      "17\n",
      "Fizz\n",
      "19\n",
      "Buzz\n",
      "Fizz\n",
      "22\n",
      "23\n",
      "Fizz\n",
      "Buzz\n",
      "26\n",
      "Fizz\n",
      "28\n",
      "29\n",
      "FizzBuzz\n",
      "31\n",
      "32\n",
      "Fizz\n",
      "34\n",
      "Buzz\n",
      "Fizz\n",
      "37\n",
      "38\n",
      "Fizz\n",
      "Buzz\n",
      "41\n",
      "Fizz\n",
      "43\n",
      "44\n",
      "FizzBuzz\n",
      "46\n",
      "47\n",
      "Fizz\n",
      "49\n",
      "Buzz\n",
      "True\n",
      "[1, 2, 3, 4, 5]\n",
      "3\n",
      "{'Charlie': 85, 'Alice': 88, 'Bob': 92}\n",
      "120\n",
      "[1, 2, 3, 4, 5, 6, 7]\n"
     ]
    },
    {
     "data": {
      "text/plain": [
       "[4, 5, 1, 2, 3]"
      ]
     },
     "execution_count": 1,
     "metadata": {},
     "output_type": "execute_result"
    }
   ],
   "source": [
    "# ✅ 1️⃣ Functions & Loops Challenges\n",
    "\n",
    "# 1. Sum of Digits\n",
    "# Write a function that takes an integer and returns the sum of its digits.\n",
    "# Example:\n",
    "# sum_of_digits(251)  # Output: 8 (2+5+1)\n",
    "\n",
    "def sum_of_digits(num):\n",
    "    num = abs(num)  # Handle negative numbers\n",
    "    digit_sum = 0  # More descriptive variable name\n",
    "\n",
    "    while num > 0:  # Loop until num becomes 0\n",
    "        last_digit = num % 10  # Extract last digit\n",
    "        digit_sum += last_digit  # Add it to the sum\n",
    "        num //= 10  # Remove last digit\n",
    "\n",
    "    return digit_sum  # Return the final sum\n",
    "\n",
    "# Example\n",
    "print(sum_of_digits(251))  # Output: 8\n",
    "print(sum_of_digits(-999))  # Output: 27\n",
    "    \n",
    "sum_of_digits(251)\n",
    "\n",
    "# 2. FizzBuzz Variation\n",
    "# Print numbers from 1 to 50:\n",
    "# - If the number is divisible by 3, print \"Fizz\".\n",
    "# - If it's divisible by 5, print \"Buzz\".\n",
    "# - If divisible by both, print \"FizzBuzz\".\n",
    "# - Otherwise, print the number.\n",
    "\n",
    "def fizzbuzz():\n",
    "    for i in range(1, 51):\n",
    "        if i % 15 == 0:  # Best check first (divisible by both 3 and 5)\n",
    "            print(\"FizzBuzz\")\n",
    "        elif i % 3 == 0:\n",
    "            print(\"Fizz\")\n",
    "        elif i % 5 == 0:\n",
    "            print(\"Buzz\")\n",
    "        else:\n",
    "            print(i)\n",
    "\n",
    "fizzbuzz()\n",
    "\n",
    "\n",
    "# 3. Prime Number Checker\n",
    "# Write a function that checks if a number is prime.\n",
    "# Example:\n",
    "# is_prime(7)  # Output: True\n",
    "# is_prime(10)  # Output: False\n",
    "\n",
    "def is_prime(n):\n",
    "    if n < 2:  # Prime numbers start from 2\n",
    "        return False\n",
    "\n",
    "    for i in range(2, int(n ** 0.5) + 1):  # Check up to sqrt(n)\n",
    "        if n % i == 0:\n",
    "            return False  # Found a divisor, not prime\n",
    "\n",
    "    return True  # No divisors found, it's prime\n",
    "print(is_prime(7)) \n",
    "\n",
    "\n",
    "# 4. Find the First N Fibonacci Numbers\n",
    "# Implement a function that returns the first N numbers in the Fibonacci sequence.\n",
    "# Example:\n",
    "# fibonacci(6)  # Output: [0, 1, 1, 2, 3, 5]\n",
    "\n",
    "def fibonacci(n):\n",
    "    if n <= 1:  # Base cases: F(0) = 0, F(1) = 1\n",
    "        return n\n",
    "    return fibonacci(n-1) + fibonacci(n-2)  # Recursive call\n",
    "fibonacci(12)\n",
    "\n",
    "\n",
    "# ✅ 2️⃣ List & Dictionary Challenges\n",
    "\n",
    "# 1. Remove Duplicates from a List\n",
    "# Given [1, 2, 3, 4, 2, 3, 1, 5], return [1, 2, 3, 4, 5].\n",
    "\n",
    "def remove_duplicates(lst):\n",
    "    unique_list = []  \n",
    "    for num in lst:\n",
    "        if num not in unique_list:  \n",
    "            unique_list.append(num)  # Append only if not already in the list\n",
    "    return unique_list\n",
    "\n",
    "# Example Usage\n",
    "print(remove_duplicates([1, 2, 3, 4, 2, 3, 1, 5]))  \n",
    "\n",
    "\n",
    "# 2. Find the Most Frequent Element in a List\n",
    "# Example:\n",
    "# most_frequent([1, 3, 2, 3, 4, 3, 5])  # Output: 3\n",
    "def most_frequent(lst):\n",
    "    mf = dict.fromkeys(lst, 0)  # Initialize dictionary with counts\n",
    "\n",
    "    for i in lst:\n",
    "        mf[i] += 1  # Count occurrences\n",
    "\n",
    "    # Find the key with the max value\n",
    "    return max(mf, key=mf.get)  # This returns the element, not just the count\n",
    "\n",
    "# Example Usage\n",
    "print(most_frequent([1, 3, 2, 3, 4, 3, 5]))  \n",
    "# Output: 3 ✅ (because 3 appears most often)\n",
    "\n",
    "\n",
    "# 3. Reverse Words in a Sentence\n",
    "# Example:\n",
    "# reverse_words(\"Hello World\")  # Output: \"World Hello\"\n",
    "\n",
    "def reverse_words(sentence):\n",
    "    return \" \".join(sentence.split()[::-1])\n",
    "reverse_words(\"Hello World\")  # Output: \"World Hello\"\n",
    "\n",
    "\n",
    "# 4. Dictionary Sorting\n",
    "# Given a dictionary, sort it by values:\n",
    "# Example:\n",
    "# scores = {\"Alice\": 88, \"Bob\": 92, \"Charlie\": 85}\n",
    "# Expected Output: {'Charlie': 85, 'Alice': 88, 'Bob': 92} (sorted by values).\n",
    "\n",
    "def sort_dict_by_value(d):\n",
    "    return dict(sorted(d.items(), key=lambda item: item[1]))\n",
    "\n",
    "scores = {\"Alice\": 88, \"Bob\": 92, \"Charlie\": 85}\n",
    "print(sort_dict_by_value(scores))\n",
    "\n",
    "\n",
    "# ✅ 3️⃣ Advanced Loops & Recursion Challenges\n",
    "\n",
    "# 1. Find the Factorial Using Recursion\n",
    "# Implement a function that calculates the factorial recursively.\n",
    "\n",
    "def factorial(n):\n",
    "    if n <= 1:\n",
    "        return 1\n",
    "    return n * factorial(n-1)\n",
    "print(factorial(5))\n",
    "\n",
    "# 2. Flatten a Nested List\n",
    "# Given [[1, 2], [3, 4, [5, 6]], 7], return [1, 2, 3, 4, 5, 6, 7].\n",
    "\n",
    "def flatten_list(nested_list):\n",
    "    flat = []\n",
    "    for item in nested_list:\n",
    "        if isinstance(item, list):  # Check if item is a list\n",
    "            flat.extend(flatten_list(item))  # Recursively flatten\n",
    "        else:\n",
    "            flat.append(item)  # Append non-list items directly\n",
    "    return flat\n",
    "\n",
    "nested_list = [[1, 2], [3, 4, [5, 6]], 7]\n",
    "print(flatten_list(nested_list))\n",
    "\n",
    "# 3. Rotate a List N Places to the Right\n",
    "# Example:\n",
    "# rotate_list([1, 2, 3, 4, 5], 2)  # Output: [4, 5, 1, 2, 3]\n",
    "\n",
    "def rotate_list(lst, n):\n",
    "    n = n % len(lst)  # Ensure n doesn't exceed list length\n",
    "    return lst[-n:] + lst[:-n]  # Last n elements + first part\n",
    "\n",
    "rotate_list([1, 2, 3, 4, 5], 2)  # Output: [4, 5, 1, 2, 3]\n",
    "\n"
   ]
  },
  {
   "cell_type": "code",
   "execution_count": 2,
   "id": "c9107a87-53ca-47cc-85f7-8b93af040770",
   "metadata": {},
   "outputs": [
    {
     "data": {
      "text/plain": [
       "144"
      ]
     },
     "execution_count": 2,
     "metadata": {},
     "output_type": "execute_result"
    }
   ],
   "source": [
    "def fibonacci(n):\n",
    "    if n <= 1:  # Base cases: F(0) = 0, F(1) = 1\n",
    "        return n\n",
    "    return fibonacci(n-1) + fibonacci(n-2)  # Recursive call\n",
    "fibonacci(12)"
   ]
  },
  {
   "cell_type": "code",
   "execution_count": 4,
   "id": "abb57185-be1d-4cbb-9265-22011acf472d",
   "metadata": {
    "jupyter": {
     "source_hidden": true
    }
   },
   "outputs": [],
   "source": [
    "def remove_duplicates(lst):\n",
    "    lst = [1, 2, 3, 4, 2, 3, 1, 5]\n",
    "    print(set(lst))"
   ]
  },
  {
   "cell_type": "code",
   "execution_count": 1,
   "id": "9f29577b-a01c-47fc-a9cb-ef63628c522f",
   "metadata": {
    "jupyter": {
     "source_hidden": true
    }
   },
   "outputs": [
    {
     "name": "stdout",
     "output_type": "stream",
     "text": [
      "3\n"
     ]
    }
   ],
   "source": [
    "def most_frequent(lst):\n",
    "    mf = dict.fromkeys(lst, 0)  # Initialize dictionary with counts\n",
    "\n",
    "    for i in lst:\n",
    "        mf[i] += 1  # Count occurrences\n",
    "\n",
    "    # Find the key with the max value\n",
    "    return max(mf, key=mf.get)  # This returns the element, not just the count\n",
    "\n",
    "# Example Usage\n",
    "print(most_frequent([1, 3, 2, 3, 4, 3, 5]))  \n",
    "# Output: 3 ✅ (because 3 appears most often)\n"
   ]
  },
  {
   "cell_type": "code",
   "execution_count": 8,
   "id": "1075bda5-4db6-4539-8501-4705eb54cfaf",
   "metadata": {
    "jupyter": {
     "source_hidden": true
    }
   },
   "outputs": [
    {
     "data": {
      "text/plain": [
       "'World Hello'"
      ]
     },
     "execution_count": 8,
     "metadata": {},
     "output_type": "execute_result"
    }
   ],
   "source": [
    "# 3. Reverse Words in a Sentence\n",
    "# Example:\n",
    "# reverse_words(\"Hello World\")  # Output: \"World Hello\"\n",
    "\n",
    "def reverse_words(sentence):\n",
    "    return \" \".join(sentence.split()[::-1])\n",
    "reverse_words(\"Hello World\")  # Output: \"World Hello\""
   ]
  },
  {
   "cell_type": "code",
   "execution_count": 11,
   "id": "2aae9c92-9d99-4bcf-b39d-b5a5c1d05a21",
   "metadata": {
    "jupyter": {
     "source_hidden": true
    }
   },
   "outputs": [
    {
     "name": "stdout",
     "output_type": "stream",
     "text": [
      "{'Charlie': 85, 'Alice': 88, 'Bob': 92}\n"
     ]
    }
   ],
   "source": [
    "# 4. Dictionary Sorting\n",
    "# Given a dictionary, sort it by values:\n",
    "# Example:\n",
    "# scores = {\"Alice\": 88, \"Bob\": 92, \"Charlie\": 85}\n",
    "# Expected Output: {'Charlie': 85, 'Alice': 88, 'Bob': 92} (sorted by values).\n",
    "\n",
    "def sort_dict_by_value(d):\n",
    "    return dict(sorted(d.items(), key=lambda item: item[1]))\n",
    "\n",
    "scores = {\"Alice\": 88, \"Bob\": 92, \"Charlie\": 85}\n",
    "print(sort_dict_by_value(scores))"
   ]
  },
  {
   "cell_type": "code",
   "execution_count": 20,
   "id": "0d8a4d37-834e-462f-ad77-4470e334e469",
   "metadata": {},
   "outputs": [
    {
     "name": "stdout",
     "output_type": "stream",
     "text": [
      "120\n",
      "[1, 2, 3, 4, 5, 6, 7]\n"
     ]
    },
    {
     "data": {
      "text/plain": [
       "[4, 5, 1, 2, 3]"
      ]
     },
     "execution_count": 20,
     "metadata": {},
     "output_type": "execute_result"
    }
   ],
   "source": [
    "def factorial(n):\n",
    "    if n <= 1:\n",
    "        return 1\n",
    "    return n * factorial(n-1)\n",
    "print(factorial(5))\n",
    "\n",
    "# 2. Flatten a Nested List\n",
    "# Given [[1, 2], [3, 4, [5, 6]], 7], return [1, 2, 3, 4, 5, 6, 7].\n",
    "\n",
    "def flatten_list(nested_list):\n",
    "    flat = []\n",
    "    for item in nested_list:\n",
    "        if isinstance(item, list):  # Check if item is a list\n",
    "            flat.extend(flatten_list(item))  # Recursively flatten\n",
    "        else:\n",
    "            flat.append(item)  # Append non-list items directly\n",
    "    return flat\n",
    "\n",
    "nested_list = [[1, 2], [3, 4, [5, 6]], 7]\n",
    "print(flatten_list(nested_list))\n",
    "\n",
    "# 3. Rotate a List N Places to the Right\n",
    "# Example:\n",
    "# rotate_list([1, 2, 3, 4, 5], 2)  # Output: [4, 5, 1, 2, 3]\n",
    "\n",
    "def rotate_list(lst, n):\n",
    "    n = n % len(lst)  # Ensure n doesn't exceed list length\n",
    "    return lst[-n:] + lst[:-n]  # Last n elements + first part\n",
    "\n",
    "rotate_list([1, 2, 3, 4, 5], 2)  # Output: [4, 5, 1, 2, 3]"
   ]
  },
  {
   "cell_type": "code",
   "execution_count": null,
   "id": "7b646de3-8e93-4324-90f4-b40b153c7d94",
   "metadata": {},
   "outputs": [],
   "source": []
  }
 ],
 "metadata": {
  "kernelspec": {
   "display_name": "Python 3 (ipykernel)",
   "language": "python",
   "name": "python3"
  },
  "language_info": {
   "codemirror_mode": {
    "name": "ipython",
    "version": 3
   },
   "file_extension": ".py",
   "mimetype": "text/x-python",
   "name": "python",
   "nbconvert_exporter": "python",
   "pygments_lexer": "ipython3",
   "version": "3.12.3"
  }
 },
 "nbformat": 4,
 "nbformat_minor": 5
}
