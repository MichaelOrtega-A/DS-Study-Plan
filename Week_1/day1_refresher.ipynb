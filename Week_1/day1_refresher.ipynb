{
 "cells": [
  {
   "cell_type": "code",
   "execution_count": 5,
   "id": "3fb7bafc-d725-44cd-adda-618c9970245a",
   "metadata": {},
   "outputs": [
    {
     "name": "stdin",
     "output_type": "stream",
     "text": [
      "Enter a number:  20\n"
     ]
    },
    {
     "name": "stdout",
     "output_type": "stream",
     "text": [
      "20 is even\n"
     ]
    }
   ],
   "source": [
    "#check if number is even or odd\n",
    "num = int(input(\"Enter a number: \")) # Prompt for input\n",
    "if (num%2) == 0: \n",
    "    print(f\"{num} is even\")\n",
    "else:\n",
    "      print(f\"{num} is odd\")"
   ]
  },
  {
   "cell_type": "code",
   "execution_count": 10,
   "id": "5f6a7b32-c8d8-45a0-a4a0-02d1190bdc7c",
   "metadata": {},
   "outputs": [
    {
     "name": "stdin",
     "output_type": "stream",
     "text": [
      "Enter a number:  5\n"
     ]
    },
    {
     "name": "stdout",
     "output_type": "stream",
     "text": [
      "Factorial: 120\n"
     ]
    }
   ],
   "source": [
    "# factorial \n",
    "num = int(input(\"Enter a number: \"))\n",
    "factorial = 1\n",
    "while num > 0:\n",
    "    \n",
    "    factorial *=num\n",
    "    num -= 1\n",
    "print(f\"Factorial: {factorial}\")"
   ]
  },
  {
   "cell_type": "code",
   "execution_count": 21,
   "id": "fb75698a-4515-40d8-bb7d-5f599b5b2fb6",
   "metadata": {},
   "outputs": [
    {
     "name": "stdin",
     "output_type": "stream",
     "text": [
      "Enter a word:  hello\n"
     ]
    },
    {
     "name": "stdout",
     "output_type": "stream",
     "text": [
      "olleh\n"
     ]
    }
   ],
   "source": [
    "#reverse a string without using slicing\n",
    "\n",
    "string = input(\"Enter a word: \")\n",
    "rstring = \"\".join(reversed(string))\n",
    "print(rstring)"
   ]
  },
  {
   "cell_type": "code",
   "execution_count": 27,
   "id": "fa8032f4-bc0b-4551-9c9b-012990daf2b7",
   "metadata": {},
   "outputs": [
    {
     "name": "stdin",
     "output_type": "stream",
     "text": [
      "Enter numbers separated by spaces:  3 1 231 -1\n"
     ]
    },
    {
     "name": "stdout",
     "output_type": "stream",
     "text": [
      "231 is the max value\n"
     ]
    }
   ],
   "source": [
    "# find the larget number  in a list without using max()\n",
    "\n",
    "numbers = list(map(int,input(\"Enter numbers separated by spaces: \").split()))\n",
    "\n",
    "is_max = numbers[0]\n",
    "\n",
    "for i in numbers:\n",
    "    if i > is_max:\n",
    "        is_max = i\n",
    "print(f\"{is_max} is the max value\")"
   ]
  },
  {
   "cell_type": "code",
   "execution_count": 30,
   "id": "ea696a21-9cc1-41cc-9988-c6ed5804f909",
   "metadata": {},
   "outputs": [
    {
     "name": "stdout",
     "output_type": "stream",
     "text": [
      "[97, 98, 99, 100]\n"
     ]
    }
   ],
   "source": [
    "def reverse_list(lst):\n",
    "    reverse_lst = []\n",
    "    for i in range(len(lst) - 1, -1, -1):\n",
    "        reverse_lst.append(lst[i])\n",
    "\n",
    "    return reverse_lst\n",
    "numbers = [100, 99, 98, 97]\n",
    "\n",
    "print(reverse_list(numbers))"
   ]
  }
 ],
 "metadata": {
  "kernelspec": {
   "display_name": "Python 3 (ipykernel)",
   "language": "python",
   "name": "python3"
  },
  "language_info": {
   "codemirror_mode": {
    "name": "ipython",
    "version": 3
   },
   "file_extension": ".py",
   "mimetype": "text/x-python",
   "name": "python",
   "nbconvert_exporter": "python",
   "pygments_lexer": "ipython3",
   "version": "3.12.3"
  }
 },
 "nbformat": 4,
 "nbformat_minor": 5
}
