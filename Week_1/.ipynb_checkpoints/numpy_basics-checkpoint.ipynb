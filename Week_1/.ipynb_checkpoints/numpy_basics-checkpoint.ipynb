{
 "cells": [
  {
   "cell_type": "code",
   "execution_count": 6,
   "id": "375b36a3-01ea-4ecb-8773-3e8edb9b414b",
   "metadata": {},
   "outputs": [
    {
     "name": "stdout",
     "output_type": "stream",
     "text": [
      "[[1. 1. 1.]\n",
      " [1. 1. 1.]\n",
      " [1. 1. 1.]]\n"
     ]
    }
   ],
   "source": [
    "#Create a NumPy array of shape (3,3) filled with ones.\n",
    "import numpy as np\n",
    "\n",
    "array = np.ones((3,3))\n",
    "print (array)"
   ]
  },
  {
   "cell_type": "code",
   "execution_count": 9,
   "id": "c3ff4ad6-21d7-4a7b-8183-45acfb20e884",
   "metadata": {},
   "outputs": [
    {
     "name": "stdout",
     "output_type": "stream",
     "text": [
      "[[0.47292786 0.87181867 0.56718154]\n",
      " [0.50322893 0.783348   0.32842613]\n",
      " [0.08649001 0.44016351 0.29169315]]\n"
     ]
    }
   ],
   "source": [
    "import numpy as np\n",
    "\n",
    "random_array = np.random.rand(3,3)\n",
    "\n",
    "print(random_array)"
   ]
  },
  {
   "cell_type": "code",
   "execution_count": 13,
   "id": "10bb493a-e014-4ad5-a36a-687262393e8d",
   "metadata": {},
   "outputs": [
    {
     "name": "stdout",
     "output_type": "stream",
     "text": [
      "[ 10  20  30  40  50  60  70  80  90 100]\n",
      "[12 18 51 86 76 37 82 76 73 47]\n"
     ]
    }
   ],
   "source": [
    "import numpy as np\n",
    "# Generate 10 values evenly spaced between 10 and 100\n",
    "array = np.arange(10, 110, 10)\n",
    "\n",
    "print(array)\n",
    "\n",
    "# Generate 10 random integers between 10 and 100\n",
    "random_int_array = np.random.randint(10, 101, size=10)\n",
    "\n",
    "print(random_int_array)"
   ]
  },
  {
   "cell_type": "code",
   "execution_count": 16,
   "id": "3a1df54c-3747-4527-bf78-afe9da0a18af",
   "metadata": {},
   "outputs": [
    {
     "name": "stdout",
     "output_type": "stream",
     "text": [
      "[[0 1 2 3 4]\n",
      " [5 6 7 8 9]]\n",
      "----------------------------------\n",
      "[[0 1 2 3 4]\n",
      " [5 6 7 8 9]]\n"
     ]
    }
   ],
   "source": [
    "import numpy as np\n",
    "\n",
    "# Create a 1D array with 10 elements\n",
    "array = np.arange(10)  # [0 1 2 3 4 5 6 7 8 9]\n",
    "\n",
    "# Reshape it into (2,5)\n",
    "reshaped_array = array.reshape(2, 5)\n",
    "\n",
    "print(reshaped_array)"
   ]
  },
  {
   "cell_type": "code",
   "execution_count": 17,
   "id": "a5bf403f-cae6-44ec-a7a7-844eff6b2500",
   "metadata": {},
   "outputs": [
    {
     "name": "stdout",
     "output_type": "stream",
     "text": [
      "Mean: 30.0\n",
      "Max: 50\n",
      "Min: 10\n",
      "Standard Deviation: 14.142135623730951\n"
     ]
    }
   ],
   "source": [
    "import numpy as np\n",
    "\n",
    "# Create a NumPy array\n",
    "array = np.array([10, 20, 30, 40, 50])\n",
    "\n",
    "# Compute statistical values\n",
    "mean_value = np.mean(array)         # Mean\n",
    "max_value = np.max(array)           # Maximum value\n",
    "min_value = np.min(array)           # Minimum value\n",
    "std_dev = np.std(array)             # Standard deviation\n",
    "\n",
    "# Print results\n",
    "print(f\"Mean: {mean_value}\")\n",
    "print(f\"Max: {max_value}\")\n",
    "print(f\"Min: {min_value}\")\n",
    "print(f\"Standard Deviation: {std_dev}\")"
   ]
  }
 ],
 "metadata": {
  "kernelspec": {
   "display_name": "Python 3 (ipykernel)",
   "language": "python",
   "name": "python3"
  },
  "language_info": {
   "codemirror_mode": {
    "name": "ipython",
    "version": 3
   },
   "file_extension": ".py",
   "mimetype": "text/x-python",
   "name": "python",
   "nbconvert_exporter": "python",
   "pygments_lexer": "ipython3",
   "version": "3.12.3"
  }
 },
 "nbformat": 4,
 "nbformat_minor": 5
}
