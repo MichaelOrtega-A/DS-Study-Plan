{
 "cells": [
  {
   "cell_type": "code",
   "execution_count": 2,
   "id": "6725062b-61c3-46ae-ad43-a08752147c36",
   "metadata": {},
   "outputs": [
    {
     "name": "stdout",
     "output_type": "stream",
     "text": [
      "      Name  Age         City  Salary\n",
      "0    Alice   25     New York   70000\n",
      "1      Bob   30  Los Angeles   80000\n",
      "2  Charlie   35      Chicago   90000\n",
      "3    David   40      Houston  100000\n"
     ]
    }
   ],
   "source": [
    "import pandas as pd\n",
    "\n",
    "# Create a dictionary with sample data\n",
    "data = {\n",
    "    \"Name\": [\"Alice\", \"Bob\", \"Charlie\", \"David\"],\n",
    "    \"Age\": [25, 30, 35, 40],\n",
    "    \"City\": [\"New York\", \"Los Angeles\", \"Chicago\", \"Houston\"],\n",
    "    \"Salary\": [70000, 80000, 90000, 100000]\n",
    "}\n",
    "\n",
    "# Convert dictionary to Pandas DataFrame\n",
    "df = pd.DataFrame(data)\n",
    "\n",
    "# Display the DataFrame\n",
    "print(df)"
   ]
  },
  {
   "cell_type": "code",
   "execution_count": 3,
   "id": "65a19714-3370-4366-85c2-562d25841376",
   "metadata": {},
   "outputs": [
    {
     "data": {
      "text/plain": [
       "'sample_employee_data.csv'"
      ]
     },
     "execution_count": 3,
     "metadata": {},
     "output_type": "execute_result"
    }
   ],
   "source": [
    "import pandas as pd\n",
    "\n",
    "# Create sample data for CSV file\n",
    "sample_data = {\n",
    "    \"EmployeeID\": [101, 102, 103, 104, 105],\n",
    "    \"Name\": [\"Alice\", \"Bob\", \"Charlie\", \"David\", \"Eve\"],\n",
    "    \"Age\": [25, 30, 35, 40, 45],\n",
    "    \"Department\": [\"HR\", \"IT\", \"Finance\", \"IT\", \"HR\"],\n",
    "    \"Salary\": [60000, 75000, 90000, 85000, 65000],\n",
    "    \"JoiningDate\": [\"2019-06-23\", \"2018-07-19\", \"2020-08-05\", \"2017-09-15\", \"2021-01-10\"],\n",
    "}\n",
    "\n",
    "# Convert to DataFrame\n",
    "df_sample = pd.DataFrame(sample_data)\n",
    "\n",
    "# Save to CSV\n",
    "csv_filename = \"sample_employee_data.csv\"\n",
    "df_sample.to_csv(csv_filename, index=False)\n",
    "\n",
    "# Provide the download link\n",
    "csv_filename"
   ]
  },
  {
   "cell_type": "code",
   "execution_count": 17,
   "id": "662ad627-c865-43ec-866f-391dbdcb5c5c",
   "metadata": {},
   "outputs": [
    {
     "name": "stdout",
     "output_type": "stream",
     "text": [
      "   EmployeeID     Name  Age Department  Salary JoiningDate\n",
      "0         101    Alice   25         HR   60000  2019-06-23\n",
      "1         102      Bob   30         IT   75000  2018-07-19\n",
      "2         103  Charlie   35    Finance   90000  2020-08-05\n",
      "3         104    David   40         IT   85000  2017-09-15\n",
      "4         105      Eve   45         HR   65000  2021-01-10 \n",
      "\n",
      "       EmployeeID        Age        Salary\n",
      "count    5.000000   5.000000      5.000000\n",
      "mean   103.000000  35.000000  75000.000000\n",
      "std      1.581139   7.905694  12747.548784\n",
      "min    101.000000  25.000000  60000.000000\n",
      "25%    102.000000  30.000000  65000.000000\n",
      "50%    103.000000  35.000000  75000.000000\n",
      "75%    104.000000  40.000000  85000.000000\n",
      "max    105.000000  45.000000  90000.000000 \n",
      "\n",
      "   EmployeeID     Name  Age Department  Salary JoiningDate\n",
      "2         103  Charlie   35    Finance   90000  2020-08-05\n",
      "3         104    David   40         IT   85000  2017-09-15\n",
      "4         105      Eve   45         HR   65000  2021-01-10\n"
     ]
    }
   ],
   "source": [
    "import pandas as pd\n",
    "# Load the CSV file into Pandas\n",
    "df = pd.read_csv(\"sample_employee_data.csv\")\n",
    "# Print the first 5 rows\n",
    "print(df.head(5), \"\\n\")\n",
    "# Get summary statistics \n",
    "print(df.describe(), '\\n')\n",
    "\n",
    "#Filter the DataFrame where Age > 30\n",
    "filtered_df = df[df[\"Age\"] > 30]\n",
    "\n",
    "print(filtered_df)"
   ]
  },
  {
   "cell_type": "code",
   "execution_count": 28,
   "id": "91ed2274-4c85-4979-a0b9-f6109d3c1209",
   "metadata": {},
   "outputs": [
    {
     "name": "stdout",
     "output_type": "stream",
     "text": [
      "   PassengerId  Survived  Pclass  \\\n",
      "0          892         0       3   \n",
      "1          893         1       3   \n",
      "2          894         0       2   \n",
      "3          895         0       3   \n",
      "4          896         1       3   \n",
      "\n",
      "                                           Name     Sex   Age  SibSp  Parch  \\\n",
      "0                              Kelly, Mr. James    male  34.5      0      0   \n",
      "1              Wilkes, Mrs. James (Ellen Needs)  female  47.0      1      0   \n",
      "2                     Myles, Mr. Thomas Francis    male  62.0      0      0   \n",
      "3                              Wirz, Mr. Albert    male  27.0      0      0   \n",
      "4  Hirvonen, Mrs. Alexander (Helga E Lindqvist)  female  22.0      1      1   \n",
      "\n",
      "    Ticket     Fare Cabin Embarked  \n",
      "0   330911   7.8292   NaN        Q  \n",
      "1   363272   7.0000   NaN        S  \n",
      "2   240276   9.6875   NaN        Q  \n",
      "3   315154   8.6625   NaN        S  \n",
      "4  3101298  12.2875   NaN        S   \n",
      "\n",
      "<class 'pandas.core.frame.DataFrame'>\n",
      "RangeIndex: 418 entries, 0 to 417\n",
      "Data columns (total 12 columns):\n",
      " #   Column       Non-Null Count  Dtype  \n",
      "---  ------       --------------  -----  \n",
      " 0   PassengerId  418 non-null    int64  \n",
      " 1   Survived     418 non-null    int64  \n",
      " 2   Pclass       418 non-null    int64  \n",
      " 3   Name         418 non-null    object \n",
      " 4   Sex          418 non-null    object \n",
      " 5   Age          332 non-null    float64\n",
      " 6   SibSp        418 non-null    int64  \n",
      " 7   Parch        418 non-null    int64  \n",
      " 8   Ticket       418 non-null    object \n",
      " 9   Fare         417 non-null    float64\n",
      " 10  Cabin        91 non-null     object \n",
      " 11  Embarked     418 non-null    object \n",
      "dtypes: float64(2), int64(5), object(5)\n",
      "memory usage: 39.3+ KB\n",
      "None \n",
      "\n",
      "       PassengerId    Survived      Pclass         Age       SibSp  \\\n",
      "count   418.000000  418.000000  418.000000  332.000000  418.000000   \n",
      "mean   1100.500000    0.363636    2.265550   30.272590    0.447368   \n",
      "std     120.810458    0.481622    0.841838   14.181209    0.896760   \n",
      "min     892.000000    0.000000    1.000000    0.170000    0.000000   \n",
      "25%     996.250000    0.000000    1.000000   21.000000    0.000000   \n",
      "50%    1100.500000    0.000000    3.000000   27.000000    0.000000   \n",
      "75%    1204.750000    1.000000    3.000000   39.000000    1.000000   \n",
      "max    1309.000000    1.000000    3.000000   76.000000    8.000000   \n",
      "\n",
      "            Parch        Fare  \n",
      "count  418.000000  417.000000  \n",
      "mean     0.392344   35.627188  \n",
      "std      0.981429   55.907576  \n",
      "min      0.000000    0.000000  \n",
      "25%      0.000000    7.895800  \n",
      "50%      0.000000   14.454200  \n",
      "75%      0.000000   31.500000  \n",
      "max      9.000000  512.329200   \n",
      "\n",
      "PassengerId      0\n",
      "Survived         0\n",
      "Pclass           0\n",
      "Name             0\n",
      "Sex              0\n",
      "Age             86\n",
      "SibSp            0\n",
      "Parch            0\n",
      "Ticket           0\n",
      "Fare             1\n",
      "Cabin          327\n",
      "Embarked         0\n",
      "dtype: int64 \n",
      "\n",
      "Survived\n",
      "0    30.272732\n",
      "1    30.272362\n",
      "Name: Age, dtype: float64\n"
     ]
    }
   ],
   "source": [
    "import pandas as pd\n",
    "\n",
    "# Load the dataset\n",
    "df = pd.read_csv(\"archive/tested.csv\")\n",
    "\n",
    "# Display the first few rows\n",
    "print(df.head(),'\\n')\n",
    "\n",
    "# Get column names and data types\n",
    "print(df.info(),'\\n')\n",
    "\n",
    "# check summary statistics \n",
    "print(df.describe(),'\\n')\n",
    "\n",
    "#check for missing values\n",
    "print(df.isnull().sum(), '\\n')\n",
    "\n",
    "#Group by 'Survived' and calculate mean age\n",
    "avg_age = df.groupby('Survived')['Age'].mean()\n",
    "print(avg_age)\n"
   ]
  }
 ],
 "metadata": {
  "kernelspec": {
   "display_name": "Python 3 (ipykernel)",
   "language": "python",
   "name": "python3"
  },
  "language_info": {
   "codemirror_mode": {
    "name": "ipython",
    "version": 3
   },
   "file_extension": ".py",
   "mimetype": "text/x-python",
   "name": "python",
   "nbconvert_exporter": "python",
   "pygments_lexer": "ipython3",
   "version": "3.12.3"
  }
 },
 "nbformat": 4,
 "nbformat_minor": 5
}
