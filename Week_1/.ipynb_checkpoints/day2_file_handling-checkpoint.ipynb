{
 "cells": [
  {
   "cell_type": "code",
   "execution_count": 1,
   "id": "0586729c-ffb7-47cb-bce6-f599d3a6ea69",
   "metadata": {},
   "outputs": [],
   "source": [
    "with open(\"data_science.txt\", \"w\") as file:\n",
    "    file.write(\"Hello, Data Science!\\n\")"
   ]
  },
  {
   "cell_type": "code",
   "execution_count": 2,
   "id": "40e8173a-ad22-4cff-8a47-c838dda61a10",
   "metadata": {},
   "outputs": [
    {
     "name": "stdout",
     "output_type": "stream",
     "text": [
      "File content:\n",
      " Hello, Data Science!\n",
      "\n"
     ]
    }
   ],
   "source": [
    "with open(\"data_science.txt\", \"r\") as file:\n",
    "    content = file.read()\n",
    "    print(f\"File content:\\n {content}\")"
   ]
  },
  {
   "cell_type": "code",
   "execution_count": null,
   "id": "56ad4a8f-c01e-46b1-a540-463fa64f3ed0",
   "metadata": {},
   "outputs": [],
   "source": []
  }
 ],
 "metadata": {
  "kernelspec": {
   "display_name": "Python 3 (ipykernel)",
   "language": "python",
   "name": "python3"
  },
  "language_info": {
   "codemirror_mode": {
    "name": "ipython",
    "version": 3
   },
   "file_extension": ".py",
   "mimetype": "text/x-python",
   "name": "python",
   "nbconvert_exporter": "python",
   "pygments_lexer": "ipython3",
   "version": "3.12.3"
  }
 },
 "nbformat": 4,
 "nbformat_minor": 5
}
